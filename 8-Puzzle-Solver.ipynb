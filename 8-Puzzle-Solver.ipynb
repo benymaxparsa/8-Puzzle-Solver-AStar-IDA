{
 "cells": [
  {
   "cell_type": "markdown",
   "metadata": {
    "collapsed": true,
    "pycharm": {
     "name": "#%% md\n"
    }
   },
   "source": [
    "# 8 Puzzle solver\n",
    "* Parsa KamaliPour - 97149081\n",
    "* In this repository we're going to solve this puzzle using $ A^* $ and $ IDA $"
   ]
  },
  {
   "cell_type": "markdown",
   "source": [
    "#### imports:"
   ],
   "metadata": {
    "collapsed": false,
    "pycharm": {
     "name": "#%% md\n"
    }
   }
  },
  {
   "cell_type": "code",
   "execution_count": 1,
   "outputs": [],
   "source": [
    "import pandas as pd\n",
    "import numpy as np"
   ],
   "metadata": {
    "collapsed": false,
    "pycharm": {
     "name": "#%%\n"
    }
   }
  },
  {
   "cell_type": "markdown",
   "source": [
    "#### Test case 1:"
   ],
   "metadata": {
    "collapsed": false,
    "pycharm": {
     "name": "#%% md\n"
    }
   }
  },
  {
   "cell_type": "code",
   "execution_count": 2,
   "outputs": [
    {
     "name": "stdout",
     "output_type": "stream",
     "text": [
      "Input: \n",
      "   0  1  2\n",
      "0  1  2  3\n",
      "1  4  0  5\n",
      "2  7  8  6\n",
      "\n",
      "Desired Output:\n",
      "   0  1  2\n",
      "0  1  2  3\n",
      "1  4  5  0\n",
      "2  7  8  6\n"
     ]
    }
   ],
   "source": [
    "input_puzzle = [\n",
    "    [1, 2, 3],\n",
    "    [4, 0, 5],\n",
    "    [7, 8, 6]\n",
    "]\n",
    "\n",
    "print('Input: ')\n",
    "print(pd.DataFrame(input_puzzle))\n",
    "print()\n",
    "\n",
    "desired_output = [\n",
    "    [1, 2, 3],\n",
    "    [4, 5, 0],\n",
    "    [7, 8, 6]\n",
    "]\n",
    "\n",
    "print('Desired Output:')\n",
    "print(pd.DataFrame(desired_output))"
   ],
   "metadata": {
    "collapsed": false,
    "pycharm": {
     "name": "#%%\n"
    }
   }
  },
  {
   "cell_type": "markdown",
   "source": [
    "### The node class:"
   ],
   "metadata": {
    "collapsed": false,
    "pycharm": {
     "name": "#%% md\n"
    }
   }
  },
  {
   "cell_type": "code",
   "execution_count": 3,
   "outputs": [],
   "source": [
    "class Node:\n",
    "\n",
    "    def __init__(self, parent, g_cost, row, col, val, h_cost, omega):\n",
    "\n",
    "        self.parent = parent\n",
    "        self.g_cost = g_cost\n",
    "        self.row = row\n",
    "        self.col = col\n",
    "        self.val = val\n",
    "        self.h_cost = h_cost\n",
    "        self.f_function = (2 - omega) * self.g_cost + omega * self.h_cost"
   ],
   "metadata": {
    "collapsed": false,
    "pycharm": {
     "name": "#%%\n"
    }
   }
  },
  {
   "cell_type": "code",
   "execution_count": null,
   "outputs": [],
   "source": [],
   "metadata": {
    "collapsed": false,
    "pycharm": {
     "name": "#%%\n"
    }
   }
  }
 ],
 "metadata": {
  "kernelspec": {
   "display_name": "Python 3",
   "language": "python",
   "name": "python3"
  },
  "language_info": {
   "codemirror_mode": {
    "name": "ipython",
    "version": 2
   },
   "file_extension": ".py",
   "mimetype": "text/x-python",
   "name": "python",
   "nbconvert_exporter": "python",
   "pygments_lexer": "ipython2",
   "version": "2.7.6"
  }
 },
 "nbformat": 4,
 "nbformat_minor": 0
}