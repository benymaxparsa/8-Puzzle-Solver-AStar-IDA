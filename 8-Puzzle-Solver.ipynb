{
 "cells": [
  {
   "cell_type": "markdown",
   "metadata": {
    "collapsed": true,
    "pycharm": {
     "name": "#%% md\n"
    }
   },
   "source": [
    "# 8 Puzzle solver\n",
    "* Parsa KamaliPour - 97149081\n",
    "* In this repository we're going to solve this puzzle using $ A^* $ and $ IDA $"
   ]
  },
  {
   "cell_type": "markdown",
   "source": [
    "#### imports:"
   ],
   "metadata": {
    "collapsed": false,
    "pycharm": {
     "name": "#%% md\n"
    }
   }
  },
  {
   "cell_type": "code",
   "execution_count": 1,
   "outputs": [],
   "source": [
    "import pandas as pd\n",
    "import numpy as np"
   ],
   "metadata": {
    "collapsed": false,
    "pycharm": {
     "name": "#%%\n"
    }
   }
  },
  {
   "cell_type": "markdown",
   "source": [
    "#### Test case 1:"
   ],
   "metadata": {
    "collapsed": false,
    "pycharm": {
     "name": "#%% md\n"
    }
   }
  },
  {
   "cell_type": "code",
   "execution_count": 28,
   "outputs": [
    {
     "name": "stdout",
     "output_type": "stream",
     "text": [
      "<__main__.Mat2dict object at 0x0000028920E9E9D0>\n",
      "Input: \n",
      "   0  1  2\n",
      "0  1  2  3\n",
      "1  4  0  5\n",
      "2  7  8  6\n",
      "\n",
      "Desired Output:\n",
      "   0  1  2\n",
      "0  1  2  3\n",
      "1  4  5  0\n",
      "2  7  8  6\n"
     ]
    }
   ],
   "source": [
    "input_puzzle = [\n",
    "    [1, 2, 3],\n",
    "    [4, 0, 5],\n",
    "    [7, 8, 6]\n",
    "]\n",
    "\n",
    "print('Input: ')\n",
    "print(pd.DataFrame(input_puzzle))\n",
    "print()\n",
    "\n",
    "desired_output = [\n",
    "    [1, 2, 3],\n",
    "    [4, 5, 0],\n",
    "    [7, 8, 6]\n",
    "]\n",
    "\n",
    "print('Desired Output:')\n",
    "print(pd.DataFrame(desired_output))"
   ],
   "metadata": {
    "collapsed": false,
    "pycharm": {
     "name": "#%%\n"
    }
   }
  },
  {
   "cell_type": "markdown",
   "source": [
    "### code's configs:"
   ],
   "metadata": {
    "collapsed": false,
    "pycharm": {
     "name": "#%% md\n"
    }
   }
  },
  {
   "cell_type": "code",
   "execution_count": 14,
   "outputs": [],
   "source": [
    "heuristic_method = input(\"Enter the desired Heuristic method: h1 or h2\")\n",
    "f_function_omega = input(\"Enter the desired f function omega: 2 is Greedy, \"\n",
    "                         \"0 is Uninformed best-first search, \"\n",
    "                         \"0 < omega <= 1 is A*\")\n"
   ],
   "metadata": {
    "collapsed": false,
    "pycharm": {
     "name": "#%%\n"
    }
   }
  },
  {
   "cell_type": "markdown",
   "source": [
    "### Matrix to dictionary converter"
   ],
   "metadata": {
    "collapsed": false
   }
  },
  {
   "cell_type": "code",
   "execution_count": null,
   "outputs": [],
   "source": [
    "class Mat2dict:\n",
    "\n",
    "    def __init__(self, matrix):\n",
    "        self.matrix = matrix\n",
    "        self.dic = {}\n",
    "        self.convert()\n",
    "\n",
    "\n",
    "    def convert(self):\n",
    "        for r in range(len(self.matrix)):\n",
    "            for c in range(len(self.matrix[0])):\n",
    "                self.dic[self.matrix[r][c]] = (r, c)\n",
    "\n",
    "        return self.dic\n"
   ],
   "metadata": {
    "collapsed": false,
    "pycharm": {
     "name": "#%%\n"
    }
   }
  },
  {
   "cell_type": "markdown",
   "source": [
    "### the heuristic calculator class:\n",
    "\n",
    "* H1 heuristic (misplaced tiles)\n",
    "\n",
    "    $ \\Sigma_{i=1}^{9} \\; if \\; currentPuzzleBoard[node_i] \\; != \\; goalPuzzleBoard[node_i]$\n",
    "  \n",
    "    $ then \\; h(state_y) = h(state_y) + 1$\n",
    "\n",
    "* H2 heuristic (manhattan distance)\n",
    "\n",
    "    $ goalPuzzleBoard.find(currentPuzzleBoard[node_i]) $\n",
    "    \n",
    "    $ retrieve \\; Row \\; \\& \\; Col \\; of \\; goal $\n",
    "  \n",
    "    $ manhattanDistance = |(goal.row - current.row)| + |(goal.col - current.col)| $\n",
    "    \n",
    "    $ TotalHeuristic[state_i] = \\Sigma_{i=1}^{9} manhattanDistance_i $"
   ],
   "metadata": {
    "collapsed": false
   }
  },
  {
   "cell_type": "code",
   "execution_count": 29,
   "outputs": [],
   "source": [
    "class Heuristic:\n",
    "\n",
    "    def __init__(self, node, current_puzzle, desired_answer, method):\n",
    "        self.method = method\n",
    "        self.node = node\n",
    "        self.current_puzzle = current_puzzle\n",
    "        self.desired_answer = desired_answer\n",
    "        self.current_puzzle_dict = Mat2dict(self.current_puzzle)\n",
    "        self.desired_answer_dict = Mat2dict(self.desired_answer)\n",
    "\n",
    "        if method == 'h1':\n",
    "            self.h1_misplaced_tiles()\n",
    "        elif method == 'h2':\n",
    "            self.h2_manhattan_distance()\n",
    "\n",
    "    def h1_misplaced_tiles(self):\n",
    "        misplaced_counter = 0\n",
    "        for row in range(len(self.current_puzzle)):\n",
    "            for col in range(len(self.current_puzzle[0])):\n",
    "                if self.current_puzzle[row][col] != self.desired_answer[row][col]:\n",
    "                    misplaced_counter += 1\n",
    "        return misplaced_counter\n",
    "\n",
    "    def h2_manhattan_distance(self):\n",
    "        total_distance_counter = 0\n",
    "        for row in range(len(self.current_puzzle)):\n",
    "            for col in range(len(self.current_puzzle[0])):\n",
    "                correct_row, correct_col = self.desired_answer_dict[self.current_puzzle[row][col]]\n",
    "                total_distance_counter += abs(row - correct_row) + abs(col - correct_col)\n",
    "        return total_distance_counter"
   ],
   "metadata": {
    "collapsed": false,
    "pycharm": {
     "name": "#%%\n"
    }
   }
  },
  {
   "cell_type": "markdown",
   "source": [
    "### The node class:"
   ],
   "metadata": {
    "collapsed": false,
    "pycharm": {
     "name": "#%% md\n"
    }
   }
  },
  {
   "cell_type": "code",
   "execution_count": 15,
   "outputs": [],
   "source": [
    "class Node:\n",
    "\n",
    "    def __init__(self, parent, current_puzzle, g_cost, row, col, val):\n",
    "\n",
    "        self.current_puzzle = current_puzzle\n",
    "        self.parent = parent\n",
    "        self.g_cost = g_cost\n",
    "        self.row = row\n",
    "        self.col = col\n",
    "        self.val = val\n",
    "        self.h_cost = Heuristic(self, current_puzzle, desired_output, heuristic_method)\n",
    "        self.f_function = (2 - f_function_omega) * self.g_cost + f_function_omega * self.h_cost\n",
    "\n"
   ],
   "metadata": {
    "collapsed": false,
    "pycharm": {
     "name": "#%%\n"
    }
   }
  }
 ],
 "metadata": {
  "kernelspec": {
   "display_name": "Python 3",
   "language": "python",
   "name": "python3"
  },
  "language_info": {
   "codemirror_mode": {
    "name": "ipython",
    "version": 2
   },
   "file_extension": ".py",
   "mimetype": "text/x-python",
   "name": "python",
   "nbconvert_exporter": "python",
   "pygments_lexer": "ipython2",
   "version": "2.7.6"
  }
 },
 "nbformat": 4,
 "nbformat_minor": 0
}