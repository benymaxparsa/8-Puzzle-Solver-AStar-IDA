{
 "cells": [
  {
   "cell_type": "markdown",
   "metadata": {
    "collapsed": true,
    "pycharm": {
     "name": "#%% md\n"
    }
   },
   "source": [
    "# 8 Puzzle solver\n",
    "* Parsa KamaliPour - 97149081\n",
    "* In this repository we're going to solve this puzzle using $ A^* $ and $ IDA $"
   ]
  },
  {
   "cell_type": "markdown",
   "source": [
    "#### imports:"
   ],
   "metadata": {
    "collapsed": false,
    "pycharm": {
     "name": "#%% md\n"
    }
   }
  },
  {
   "cell_type": "code",
   "execution_count": 2,
   "outputs": [],
   "source": [
    "import copy\n",
    "\n",
    "import pandas as pd\n",
    "import numpy as np\n",
    "import collections\n",
    "import heapq"
   ],
   "metadata": {
    "collapsed": false,
    "pycharm": {
     "name": "#%%\n"
    }
   }
  },
  {
   "cell_type": "markdown",
   "source": [
    "#### Test case 1:"
   ],
   "metadata": {
    "collapsed": false,
    "pycharm": {
     "name": "#%% md\n"
    }
   }
  },
  {
   "cell_type": "code",
   "execution_count": 3,
   "outputs": [
    {
     "name": "stdout",
     "output_type": "stream",
     "text": [
      "Input: \n",
      "   0  1  2\n",
      "0  1  2  3\n",
      "1  4  0  5\n",
      "2  7  8  6\n",
      "\n",
      "Desired Output:\n",
      "   0  1  2\n",
      "0  1  2  3\n",
      "1  4  5  0\n",
      "2  7  8  6\n"
     ]
    }
   ],
   "source": [
    "input_puzzle_1 = [\n",
    "    [1, 2, 3],\n",
    "    [4, 0, 5],\n",
    "    [7, 8, 6]\n",
    "]\n",
    "\n",
    "print('Input: ')\n",
    "print(pd.DataFrame(input_puzzle_1))\n",
    "print()\n",
    "\n",
    "desired_output_1 = [\n",
    "    [1, 2, 3],\n",
    "    [4, 5, 0],\n",
    "    [7, 8, 6]\n",
    "]\n",
    "\n",
    "print('Desired Output:')\n",
    "print(pd.DataFrame(desired_output_1))\n"
   ],
   "metadata": {
    "collapsed": false,
    "pycharm": {
     "name": "#%%\n"
    }
   }
  },
  {
   "cell_type": "markdown",
   "source": [
    "#### Test case 2: (Hardest)"
   ],
   "metadata": {
    "collapsed": false
   }
  },
  {
   "cell_type": "code",
   "execution_count": 4,
   "outputs": [
    {
     "name": "stdout",
     "output_type": "stream",
     "text": [
      "Input 2: \n",
      "   0  1  2\n",
      "0  8  6  7\n",
      "1  2  5  4\n",
      "2  3  0  1\n",
      "\n",
      "Desired Output 2:\n",
      "   0  1  2\n",
      "0  6  4  7\n",
      "1  8  5  0\n",
      "2  3  2  1\n"
     ]
    }
   ],
   "source": [
    "input_puzzle_2 = [\n",
    "    [8, 6, 7],\n",
    "    [2, 5, 4],\n",
    "    [3, 0, 1]\n",
    "]\n",
    "\n",
    "print('Input 2: ')\n",
    "print(pd.DataFrame(input_puzzle_2))\n",
    "print()\n",
    "\n",
    "desired_output_2 = [\n",
    "    [6, 4, 7],\n",
    "    [8, 5, 0],\n",
    "    [3, 2, 1]\n",
    "]\n",
    "\n",
    "print('Desired Output 2:')\n",
    "print(pd.DataFrame(desired_output_2))\n"
   ],
   "metadata": {
    "collapsed": false,
    "pycharm": {
     "name": "#%%\n"
    }
   }
  },
  {
   "cell_type": "markdown",
   "source": [
    "### code's configs:"
   ],
   "metadata": {
    "collapsed": false,
    "pycharm": {
     "name": "#%% md\n"
    }
   }
  },
  {
   "cell_type": "code",
   "execution_count": 15,
   "outputs": [],
   "source": [
    "heuristic_method = input(\"Enter the desired Heuristic method: h1 or h2\")\n",
    "f_function_omega = eval(input(\"Enter the desired f function omega: 2 is Greedy, \"\n",
    "                         \"0 is Uninformed best-first search, \"\n",
    "                         \"0 < omega <= 1 is A*\"))\n",
    "\n",
    "test_case = eval(input(\"which test case? 1:easy, 2:hard\"))\n",
    "\n",
    "if test_case == 1:\n",
    "    input_puzzle = input_puzzle_1\n",
    "    desired_output = desired_output_1\n",
    "elif test_case == 2:\n",
    "    input_puzzle = input_puzzle_2\n",
    "    desired_output = desired_output_2"
   ],
   "metadata": {
    "collapsed": false,
    "pycharm": {
     "name": "#%%\n"
    }
   }
  },
  {
   "cell_type": "markdown",
   "source": [
    "### Matrix to dictionary converter"
   ],
   "metadata": {
    "collapsed": false
   }
  },
  {
   "cell_type": "code",
   "execution_count": 6,
   "outputs": [],
   "source": [
    "class Mat2dict:\n",
    "\n",
    "    def __init__(self, matrix):\n",
    "        self.matrix = matrix\n",
    "        self.dic = {}\n",
    "\n",
    "\n",
    "    def convert(self):\n",
    "        for r in range(len(self.matrix)):\n",
    "            for c in range(len(self.matrix[0])):\n",
    "                key = self.matrix[r][c]\n",
    "                self.dic[key] = [r, c]\n",
    "\n",
    "        return self.dic\n"
   ],
   "metadata": {
    "collapsed": false,
    "pycharm": {
     "name": "#%%\n"
    }
   }
  },
  {
   "cell_type": "markdown",
   "source": [
    "### the heuristic calculator class:\n",
    "\n",
    "* H1 heuristic (misplaced tiles)\n",
    "\n",
    "    $ \\Sigma_{i=1}^{9} \\; if \\; currentPuzzleBoard[node_i] \\; != \\; goalPuzzleBoard[node_i]$\n",
    "\n",
    "    $ then \\; h(state_y) = h(state_y) + 1$\n",
    "\n",
    "* H2 heuristic (manhattan distance)\n",
    "\n",
    "    $ goalPuzzleBoard.find(currentPuzzleBoard[node_i]) $\n",
    "\n",
    "    $ retrieve \\; Row \\; \\& \\; Col \\; of \\; goal $\n",
    "\n",
    "    $ manhattanDistance = |(goal.row - current.row)| + |(goal.col - current.col)| $\n",
    "\n",
    "    $ TotalHeuristic[state_i] = \\Sigma_{i=1}^{9} manhattanDistance_i $"
   ],
   "metadata": {
    "collapsed": false
   }
  },
  {
   "cell_type": "code",
   "execution_count": 7,
   "outputs": [],
   "source": [
    "class Heuristic:\n",
    "\n",
    "    def __init__(self, node, current_puzzle, desired_answer, method):\n",
    "        self.method = method\n",
    "        self.node = node\n",
    "        self.current_puzzle = current_puzzle\n",
    "        self.desired_answer = desired_answer\n",
    "        #self.current_puzzle_dict = Mat2dict(self.current_puzzle)\n",
    "        self.desired_answer_dict = Mat2dict(self.desired_answer).convert()\n",
    "\n",
    "    def do(self):\n",
    "        if self.method == 'h1':\n",
    "            return self.h1_misplaced_tiles()\n",
    "        elif self.method == 'h2':\n",
    "            return self.h2_manhattan_distance()\n",
    "\n",
    "    def h1_misplaced_tiles(self):\n",
    "        misplaced_counter = 0\n",
    "        for row in range(len(self.current_puzzle)):\n",
    "            for col in range(len(self.current_puzzle[0])):\n",
    "                if self.current_puzzle[row][col] != self.desired_answer[row][col]:\n",
    "                    misplaced_counter += 1\n",
    "        return misplaced_counter\n",
    "\n",
    "    def h2_manhattan_distance(self):\n",
    "        total_distance_counter = 0\n",
    "        for row in range(len(self.current_puzzle)):\n",
    "            for col in range(len(self.current_puzzle[0])):\n",
    "                key = self.current_puzzle[row][col]\n",
    "                correct_row, correct_col = self.desired_answer_dict[key]\n",
    "                total_distance_counter += abs(row - correct_row) + abs(col - correct_col)\n",
    "        return total_distance_counter"
   ],
   "metadata": {
    "collapsed": false,
    "pycharm": {
     "name": "#%%\n"
    }
   }
  },
  {
   "cell_type": "markdown",
   "source": [
    "### The node class:\n",
    "\n",
    "* F function is calculated in a such way that you can control how the Heuristic and G-cost\n",
    "can perform:\n",
    "\n",
    "    $ FCost(n) = (2-\\omega) * GCost(n) + \\omega * h(n)$\n",
    "\n",
    "    $ if \\; \\omega = 2: $\n",
    "\n",
    "    $ then: algorithm \\; is \\; Greedy \\; due \\; to \\; GCost \\; being \\; 0:$\n",
    "\n",
    "    $ FCost(n) = 0 + 2 * h(n) $\n",
    "\n",
    "    $ if \\; \\omega = 0: $\n",
    "\n",
    "    $ then: algorithm \\; is \\; uninformed \\; search \\; due \\; to \\; h(n) \\; being \\; 0:$\n",
    "\n",
    "    $ FCost(n) = 2 * GCost(n) + 0 $\n",
    "\n",
    "    $ if \\; 0 \\lt \\omega \\le 1 : $\n",
    "\n",
    "    $ then: algorithm \\; is \\; informed \\; search(A^*):$\n",
    "\n",
    "    $ FCost(n) = (2-\\omega) * GCost(n) + \\omega * h(n) $"
   ],
   "metadata": {
    "collapsed": false,
    "pycharm": {
     "name": "#%% md\n"
    }
   }
  },
  {
   "cell_type": "code",
   "execution_count": 8,
   "outputs": [],
   "source": [
    "class Node:\n",
    "\n",
    "    def __init__(self, current_puzzle, parent=None):\n",
    "        self.current_puzzle = current_puzzle\n",
    "        self.parent = parent\n",
    "\n",
    "        if self.parent:\n",
    "            self.g_cost = self.parent.f_function\n",
    "            self.depth = self.parent.depth + 1\n",
    "\n",
    "        else:\n",
    "            self.g_cost = 0\n",
    "            self.depth = 0\n",
    "\n",
    "        self.h_cost = Heuristic(self, current_puzzle, desired_output, heuristic_method).do()\n",
    "        self.f_function = (2 - f_function_omega) * self.g_cost + f_function_omega * self.h_cost\n",
    "\n",
    "    def __eq__(self, other):\n",
    "        return self.f_function == other.f_function\n",
    "\n",
    "    def __lt__(self, other):\n",
    "        return self.f_function < other.f_function\n",
    "\n",
    "    def get_id(self):\n",
    "        return str(self)\n",
    "\n",
    "    def get_path(self):\n",
    "        node, path = self, []\n",
    "        while node:\n",
    "            path.append(node)\n",
    "            node = node.parent\n",
    "        return list(reversed(path))\n",
    "\n",
    "    def get_position(self, element):\n",
    "        for row in range(len(self.current_puzzle)):\n",
    "            for col in range(len(self.current_puzzle[0])):\n",
    "                if self.current_puzzle[row][col] == element:\n",
    "                    return [row, col]\n",
    "        return [0, 0]\n",
    "\n"
   ],
   "metadata": {
    "collapsed": false,
    "pycharm": {
     "name": "#%%\n"
    }
   }
  },
  {
   "cell_type": "markdown",
   "source": [
    "### The puzzle solver class:"
   ],
   "metadata": {
    "collapsed": false,
    "pycharm": {
     "name": "#%% md\n"
    }
   }
  },
  {
   "cell_type": "code",
   "execution_count": 9,
   "outputs": [],
   "source": [
    "\n",
    "class PuzzleSolver:\n",
    "\n",
    "    def __init__(self, start_node):\n",
    "\n",
    "        self.final_state = None\n",
    "        self.start_node = start_node\n",
    "        self.depth = 0\n",
    "        self.visited_nodes = set()\n",
    "        self.expanded_nodes = 0\n",
    "\n",
    "    def solve(self):\n",
    "\n",
    "        queue = [self.start_node]\n",
    "        self.visited_nodes.add(self.start_node.get_id())\n",
    "\n",
    "        while queue:\n",
    "            self.expanded_nodes += 1\n",
    "            node = heapq.heappop(queue)\n",
    "            if node.current_puzzle == desired_output:\n",
    "                self.final_state = node\n",
    "                Result(self.final_state, self.expanded_nodes)\n",
    "                return True\n",
    "\n",
    "            if node.depth + 1 > self.depth:\n",
    "                self.depth = node.depth + 1\n",
    "\n",
    "            for neighbor in NeighborsCalculator(node).get_list_of_neighbors():\n",
    "                if not neighbor.get_id in self.visited_nodes:\n",
    "                    self.visited_nodes.add(neighbor.get_id())\n",
    "                    heapq.heappush(queue, neighbor)\n",
    "\n",
    "        return False\n",
    "\n"
   ],
   "metadata": {
    "collapsed": false,
    "pycharm": {
     "name": "#%%\n"
    }
   }
  },
  {
   "cell_type": "markdown",
   "source": [
    "### result class"
   ],
   "metadata": {
    "collapsed": false,
    "pycharm": {
     "name": "#%% md\n"
    }
   }
  },
  {
   "cell_type": "code",
   "execution_count": 10,
   "outputs": [],
   "source": [
    "class Result:\n",
    "\n",
    "    def __init__(self, final_state, expanded_nodes):\n",
    "        self.expanded_nodes = expanded_nodes\n",
    "        self.final_state = final_state\n",
    "        self.solved_puzzle = self.final_state.current_puzzle\n",
    "        self.path = self.final_state.get_path()\n",
    "        self.show_puzzles()\n",
    "        self.show_path()\n",
    "\n",
    "    def show_puzzles(self):\n",
    "        print(\"Inital Puzzle: \")\n",
    "        print(pd.DataFrame(input_puzzle))\n",
    "        print(\"Result Puzzle: \")\n",
    "        print(pd.DataFrame(self.solved_puzzle))\n",
    "        print(\"Expected Puzzle: \")\n",
    "        print(pd.DataFrame(desired_output))\n",
    "        print()\n",
    "        print(\"Number of expanded nodes: {}\".format(self.expanded_nodes))\n",
    "        print()\n",
    "\n",
    "    def show_path(self):\n",
    "        counter = 0\n",
    "        while self.path:\n",
    "            counter += 1\n",
    "            step = self.path.pop(0)\n",
    "            print(\"step {}: \".format(counter))\n",
    "            print(pd.DataFrame(step.current_puzzle))\n"
   ],
   "metadata": {
    "collapsed": false,
    "pycharm": {
     "name": "#%%\n"
    }
   }
  },
  {
   "cell_type": "markdown",
   "source": [
    "### Neighbors calculator"
   ],
   "metadata": {
    "collapsed": false,
    "pycharm": {
     "name": "#%% md\n"
    }
   }
  },
  {
   "cell_type": "code",
   "execution_count": 11,
   "outputs": [],
   "source": [
    "class NeighborsCalculator:\n",
    "\n",
    "    def __init__(self, current_state):\n",
    "        self.current_state = current_state\n",
    "        self.puzzle = self.current_state.current_puzzle\n",
    "        self.neighbors = []\n",
    "\n",
    "    def get_list_of_neighbors(self):\n",
    "        row, col = map(int, self.current_state.get_position(0))\n",
    "        #if row or col is None:\n",
    "          #  return []\n",
    "\n",
    "        # move right\n",
    "        if col < len(self.puzzle[0]) - 1:\n",
    "            moved_right = copy.deepcopy(self.puzzle)\n",
    "            moved_right[row][col], moved_right[row][col + 1] = moved_right[row][col + 1], moved_right[row][col]\n",
    "            self.neighbors.append(Node(moved_right, self.current_state))\n",
    "\n",
    "        # move left\n",
    "        if col > 0:\n",
    "            moved_left = copy.deepcopy(self.puzzle)\n",
    "            moved_left[row][col], moved_left[row][col - 1] = moved_left[row][col - 1], moved_left[row][col]\n",
    "            self.neighbors.append(Node(moved_left, self.current_state))\n",
    "\n",
    "        # move up\n",
    "        if row > 0:\n",
    "            moved_up = copy.deepcopy(self.puzzle)\n",
    "            moved_up[row][col], moved_up[row - 1][col] = moved_up[row - 1][col], moved_up[row][col]\n",
    "            self.neighbors.append(Node(moved_up, self.current_state))\n",
    "\n",
    "\n",
    "        # move down\n",
    "        if row < len(self.puzzle) - 1:\n",
    "            moved_down = copy.deepcopy(self.puzzle)\n",
    "            moved_down[row][col], moved_down[row + 1][col] = moved_down[row + 1][col], moved_down[row][col]\n",
    "            self.neighbors.append(Node(moved_down, self.current_state))\n",
    "\n",
    "        return self.neighbors"
   ],
   "metadata": {
    "collapsed": false,
    "pycharm": {
     "name": "#%%\n"
    }
   }
  },
  {
   "cell_type": "code",
   "execution_count": 12,
   "outputs": [
    {
     "name": "stdout",
     "output_type": "stream",
     "text": [
      "Inital Puzzle: \n",
      "   0  1  2\n",
      "0  1  2  3\n",
      "1  4  0  5\n",
      "2  7  8  6\n",
      "Result Puzzle: \n",
      "   0  1  2\n",
      "0  1  2  3\n",
      "1  4  5  0\n",
      "2  7  8  6\n",
      "Expected Puzzle: \n",
      "   0  1  2\n",
      "0  1  2  3\n",
      "1  4  5  0\n",
      "2  7  8  6\n",
      "\n",
      "Number of expanded nodes: 2\n",
      "\n",
      "step 1: \n",
      "   0  1  2\n",
      "0  1  2  3\n",
      "1  4  0  5\n",
      "2  7  8  6\n",
      "step 2: \n",
      "   0  1  2\n",
      "0  1  2  3\n",
      "1  4  5  0\n",
      "2  7  8  6\n"
     ]
    },
    {
     "data": {
      "text/plain": "True"
     },
     "execution_count": 12,
     "metadata": {},
     "output_type": "execute_result"
    }
   ],
   "source": [
    "initial_state = Node(input_puzzle)\n",
    "\n",
    "PuzzleSolver(initial_state).solve()\n"
   ],
   "metadata": {
    "collapsed": false,
    "pycharm": {
     "name": "#%%\n"
    }
   }
  },
  {
   "cell_type": "markdown",
   "source": [
    "### The puzzle solver IDA class:"
   ],
   "metadata": {
    "collapsed": false,
    "pycharm": {
     "name": "#%% md\n"
    }
   }
  },
  {
   "cell_type": "code",
   "execution_count": 13,
   "outputs": [],
   "source": [
    "\n",
    "class PuzzleSolverIDA:\n",
    "\n",
    "    def __init__(self, start_node, iterate):\n",
    "\n",
    "        self.iterate = iterate\n",
    "        self.final_state = None\n",
    "        self.start_node = start_node\n",
    "        self.depth = 0\n",
    "        self.visited_nodes = set()\n",
    "        self.expanded_nodes = 0\n",
    "        self.f_cutoff = 0\n",
    "\n",
    "    def solve(self):\n",
    "\n",
    "        while True:\n",
    "            self.f_cutoff += self.iterate\n",
    "            queue = [self.start_node]\n",
    "            self.visited_nodes.add(self.start_node.get_id())\n",
    "\n",
    "            while queue:\n",
    "                self.expanded_nodes += 1\n",
    "                node = heapq.heappop(queue)\n",
    "                if node.current_puzzle == desired_output:\n",
    "                    self.final_state = node\n",
    "                    Result(self.final_state, self.expanded_nodes)\n",
    "                    return True\n",
    "\n",
    "                if node.depth + 1 > self.depth:\n",
    "                    self.depth = node.depth + 1\n",
    "\n",
    "                for neighbor in NeighborsCalculator(node).get_list_of_neighbors():\n",
    "                    if not neighbor.get_id in self.visited_nodes:\n",
    "                        if neighbor.f_function <= self.f_cutoff:\n",
    "                            self.visited_nodes.add(neighbor.get_id())\n",
    "                            heapq.heappush(queue, neighbor)\n",
    "\n",
    "\n",
    "\n"
   ],
   "metadata": {
    "collapsed": false,
    "pycharm": {
     "name": "#%%\n"
    }
   }
  },
  {
   "cell_type": "code",
   "execution_count": 16,
   "outputs": [
    {
     "name": "stdout",
     "output_type": "stream",
     "text": [
      "Inital Puzzle: \n",
      "   0  1  2\n",
      "0  8  6  7\n",
      "1  2  5  4\n",
      "2  3  0  1\n",
      "Result Puzzle: \n",
      "   0  1  2\n",
      "0  6  4  7\n",
      "1  8  5  0\n",
      "2  3  2  1\n",
      "Expected Puzzle: \n",
      "   0  1  2\n",
      "0  6  4  7\n",
      "1  8  5  0\n",
      "2  3  2  1\n",
      "\n",
      "Number of expanded nodes: 2191847\n",
      "\n",
      "step 1: \n",
      "   0  1  2\n",
      "0  8  6  7\n",
      "1  2  5  4\n",
      "2  3  0  1\n",
      "step 2: \n",
      "   0  1  2\n",
      "0  8  6  7\n",
      "1  2  5  4\n",
      "2  3  1  0\n",
      "step 3: \n",
      "   0  1  2\n",
      "0  8  6  7\n",
      "1  2  5  0\n",
      "2  3  1  4\n",
      "step 4: \n",
      "   0  1  2\n",
      "0  8  6  7\n",
      "1  2  0  5\n",
      "2  3  1  4\n",
      "step 5: \n",
      "   0  1  2\n",
      "0  8  6  7\n",
      "1  0  2  5\n",
      "2  3  1  4\n",
      "step 6: \n",
      "   0  1  2\n",
      "0  0  6  7\n",
      "1  8  2  5\n",
      "2  3  1  4\n",
      "step 7: \n",
      "   0  1  2\n",
      "0  6  0  7\n",
      "1  8  2  5\n",
      "2  3  1  4\n",
      "step 8: \n",
      "   0  1  2\n",
      "0  6  7  0\n",
      "1  8  2  5\n",
      "2  3  1  4\n",
      "step 9: \n",
      "   0  1  2\n",
      "0  6  7  5\n",
      "1  8  2  0\n",
      "2  3  1  4\n",
      "step 10: \n",
      "   0  1  2\n",
      "0  6  7  5\n",
      "1  8  2  4\n",
      "2  3  1  0\n",
      "step 11: \n",
      "   0  1  2\n",
      "0  6  7  5\n",
      "1  8  2  4\n",
      "2  3  0  1\n",
      "step 12: \n",
      "   0  1  2\n",
      "0  6  7  5\n",
      "1  8  0  4\n",
      "2  3  2  1\n",
      "step 13: \n",
      "   0  1  2\n",
      "0  6  7  5\n",
      "1  8  4  0\n",
      "2  3  2  1\n",
      "step 14: \n",
      "   0  1  2\n",
      "0  6  7  0\n",
      "1  8  4  5\n",
      "2  3  2  1\n",
      "step 15: \n",
      "   0  1  2\n",
      "0  6  0  7\n",
      "1  8  4  5\n",
      "2  3  2  1\n",
      "step 16: \n",
      "   0  1  2\n",
      "0  6  4  7\n",
      "1  8  0  5\n",
      "2  3  2  1\n",
      "step 17: \n",
      "   0  1  2\n",
      "0  6  4  7\n",
      "1  8  5  0\n",
      "2  3  2  1\n"
     ]
    },
    {
     "data": {
      "text/plain": "True"
     },
     "execution_count": 16,
     "metadata": {},
     "output_type": "execute_result"
    }
   ],
   "source": [
    "initial_state = Node(input_puzzle)\n",
    "\n",
    "PuzzleSolverIDA(initial_state, 4).solve()\n",
    "\n",
    "\n",
    "\n",
    "\n",
    "\n"
   ],
   "metadata": {
    "collapsed": false,
    "pycharm": {
     "name": "#%%\n"
    }
   }
  }
 ],
 "metadata": {
  "kernelspec": {
   "display_name": "Python 3",
   "language": "python",
   "name": "python3"
  },
  "language_info": {
   "codemirror_mode": {
    "name": "ipython",
    "version": 2
   },
   "file_extension": ".py",
   "mimetype": "text/x-python",
   "name": "python",
   "nbconvert_exporter": "python",
   "pygments_lexer": "ipython2",
   "version": "2.7.6"
  }
 },
 "nbformat": 4,
 "nbformat_minor": 0
}