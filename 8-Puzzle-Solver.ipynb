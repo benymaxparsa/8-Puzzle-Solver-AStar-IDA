{
 "cells": [
  {
   "cell_type": "markdown",
   "metadata": {
    "collapsed": true,
    "pycharm": {
     "name": "#%% md\n"
    }
   },
   "source": [
    "# 8 Puzzle solver\n",
    "In this repository we're going to solve this puzzle using $ A^* $ and $ IDA $"
   ]
  },
  {
   "cell_type": "markdown",
   "source": [
    "#### imports:"
   ],
   "metadata": {
    "collapsed": false,
    "pycharm": {
     "name": "#%% md\n"
    }
   }
  },
  {
   "cell_type": "code",
   "execution_count": 12,
   "outputs": [],
   "source": [
    "import pandas as pandas\n",
    "import numpy as np"
   ],
   "metadata": {
    "collapsed": false,
    "pycharm": {
     "name": "#%%\n"
    }
   }
  },
  {
   "cell_type": "markdown",
   "source": [
    "#### Test case 1:"
   ],
   "metadata": {
    "collapsed": false,
    "pycharm": {
     "name": "#%% md\n"
    }
   }
  },
  {
   "cell_type": "code",
   "execution_count": 19,
   "outputs": [
    {
     "name": "stdout",
     "output_type": "stream",
     "text": [
      "Input: \n",
      "   0  1  2\n",
      "0  1  2  3\n",
      "1  4  0  5\n",
      "2  7  8  6\n",
      "\n",
      "Desired Output:\n",
      "   0  1  2\n",
      "0  1  2  3\n",
      "1  4  5  0\n",
      "2  7  8  6\n"
     ]
    }
   ],
   "source": [
    "input_puzzle = [\n",
    "    [1, 2, 3],\n",
    "    [4, 0, 5],\n",
    "    [7, 8, 6]\n",
    "]\n",
    "\n",
    "print('Input: ')\n",
    "print(pandas.DataFrame(input_puzzle))\n",
    "print()\n",
    "\n",
    "desired_output = [\n",
    "    [1, 2, 3],\n",
    "    [4, 5, 0],\n",
    "    [7, 8, 6]\n",
    "]\n",
    "\n",
    "print('Desired Output:')\n",
    "print(pandas.DataFrame(desired_output))"
   ],
   "metadata": {
    "collapsed": false,
    "pycharm": {
     "name": "#%%\n"
    }
   }
  },
  {
   "cell_type": "markdown",
   "source": [
    "### The node class:"
   ],
   "metadata": {
    "collapsed": false,
    "pycharm": {
     "name": "#%% md\n"
    }
   }
  },
  {
   "cell_type": "code",
   "execution_count": null,
   "outputs": [],
   "source": [
    "class Node:\n",
    "\n",
    "    def __init__(self, parent, g, ):\n"
   ],
   "metadata": {
    "collapsed": false,
    "pycharm": {
     "name": "#%%\n"
    }
   }
  }
 ],
 "metadata": {
  "kernelspec": {
   "display_name": "Python 3",
   "language": "python",
   "name": "python3"
  },
  "language_info": {
   "codemirror_mode": {
    "name": "ipython",
    "version": 2
   },
   "file_extension": ".py",
   "mimetype": "text/x-python",
   "name": "python",
   "nbconvert_exporter": "python",
   "pygments_lexer": "ipython2",
   "version": "2.7.6"
  }
 },
 "nbformat": 4,
 "nbformat_minor": 0
}